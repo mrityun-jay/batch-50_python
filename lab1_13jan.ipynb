{
  "nbformat": 4,
  "nbformat_minor": 0,
  "metadata": {
    "colab": {
      "provenance": [],
      "authorship_tag": "ABX9TyPdoSZ4tQuLeLNMH27Z/nKz",
      "include_colab_link": true
    },
    "kernelspec": {
      "name": "python3",
      "display_name": "Python 3"
    },
    "language_info": {
      "name": "python"
    }
  },
  "cells": [
    {
      "cell_type": "markdown",
      "metadata": {
        "id": "view-in-github",
        "colab_type": "text"
      },
      "source": [
        "<a href=\"https://colab.research.google.com/github/mrityun-jay/batch-50_python/blob/main/lab1_13jan.ipynb\" target=\"_parent\"><img src=\"https://colab.research.google.com/assets/colab-badge.svg\" alt=\"Open In Colab\"/></a>"
      ]
    },
    {
      "cell_type": "code",
      "execution_count": 1,
      "metadata": {
        "colab": {
          "base_uri": "https://localhost:8080/"
        },
        "id": "AefBrbpikXFt",
        "outputId": "a4f21289-49a3-487e-e462-0815a654e6a5"
      },
      "outputs": [
        {
          "output_type": "stream",
          "name": "stdout",
          "text": [
            "15\n",
            "5\n",
            "50\n",
            "2.0\n",
            "0\n"
          ]
        }
      ],
      "source": [
        "#Operators\n",
        "a = 10\n",
        "b = 5\n",
        "print (a+b)\n",
        "print (a-b)\n",
        "print (a*b)\n",
        "print (a/b) #Division has always a float value\n",
        "print (a%b)"
      ]
    },
    {
      "cell_type": "code",
      "source": [
        "a = 17\n",
        "b = 3\n",
        "print (a//b) #approximate value\n",
        "print (a/b) #float answer\n",
        "print (a^b) #or you can represent power in a**b\n",
        "print (a**b) #power operator"
      ],
      "metadata": {
        "colab": {
          "base_uri": "https://localhost:8080/"
        },
        "id": "trNHQRtVk9h6",
        "outputId": "b4de9d0f-6506-4647-e892-e933dad3edba"
      },
      "execution_count": 3,
      "outputs": [
        {
          "output_type": "stream",
          "name": "stdout",
          "text": [
            "5\n",
            "5.666666666666667\n",
            "18\n",
            "4913\n"
          ]
        }
      ]
    },
    {
      "cell_type": "code",
      "source": [
        "#comapring operator\n",
        "a = 11\n",
        "b = 9\n",
        "print (a==b)\n",
        "print (a!=b) #not equal to operator\n",
        "print (a>=b) #or just a>b\n",
        "print (a<=b) #or just a<b\n"
      ],
      "metadata": {
        "colab": {
          "base_uri": "https://localhost:8080/"
        },
        "id": "IDm85AJRlv32",
        "outputId": "749853d7-3511-4c80-8fd1-0f30d316c5f0"
      },
      "execution_count": 4,
      "outputs": [
        {
          "output_type": "stream",
          "name": "stdout",
          "text": [
            "False\n",
            "True\n",
            "True\n",
            "False\n"
          ]
        }
      ]
    },
    {
      "cell_type": "code",
      "source": [
        "#Urinary Operator\n",
        "a = 10\n",
        "b = -(a) #Either use the bracket or just use the minus sign\n",
        "print (a)"
      ],
      "metadata": {
        "colab": {
          "base_uri": "https://localhost:8080/"
        },
        "id": "9wN9h9LSmlC-",
        "outputId": "48724250-10ae-4927-dd0c-e1806d69f65b"
      },
      "execution_count": 8,
      "outputs": [
        {
          "output_type": "stream",
          "name": "stdout",
          "text": [
            "10\n"
          ]
        }
      ]
    },
    {
      "cell_type": "code",
      "source": [
        "# Logic Gates\n",
        "# bItwise Operator\n",
        "#                 &.   OR.   ^.   !\n",
        "#      A    B    AND   OR.  XOR  Not\n",
        "# AND  0.   0     0.    0.   0\n",
        "# OR.  0.   1.    0.    1.   1\n",
        "# NOT. 1    0.    0.    1.   1\n",
        "# XOR. 1.   1.    1.    1.   0\n",
        "\n",
        "#Bitwise Right Shift Operator a<<1 --- 00001010 = 00010100\n",
        "#Bitwise Lefst SHift Operator a>>1 --- 00001010 = 00000010\n"
      ],
      "metadata": {
        "id": "lXbjzcOeo67H"
      },
      "execution_count": null,
      "outputs": []
    },
    {
      "cell_type": "code",
      "source": [
        "a = 10\n",
        "b = 5\n",
        "print (a&b) #&& = logical operator single & is bitwise operator\n"
      ],
      "metadata": {
        "colab": {
          "base_uri": "https://localhost:8080/"
        },
        "id": "jefxtBvnrtov",
        "outputId": "9f6dfd41-1585-45ef-b893-cf386da20924"
      },
      "execution_count": 10,
      "outputs": [
        {
          "output_type": "stream",
          "name": "stdout",
          "text": [
            "0\n"
          ]
        }
      ]
    },
    {
      "cell_type": "code",
      "source": [],
      "metadata": {
        "id": "WeIG6ZAWtYa9"
      },
      "execution_count": null,
      "outputs": []
    }
  ]
}