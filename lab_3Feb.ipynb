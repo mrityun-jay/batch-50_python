{
  "nbformat": 4,
  "nbformat_minor": 0,
  "metadata": {
    "colab": {
      "provenance": [],
      "authorship_tag": "ABX9TyOgpsUS4fPcONfz+Dhf3Zj5",
      "include_colab_link": true
    },
    "kernelspec": {
      "name": "python3",
      "display_name": "Python 3"
    },
    "language_info": {
      "name": "python"
    }
  },
  "cells": [
    {
      "cell_type": "markdown",
      "metadata": {
        "id": "view-in-github",
        "colab_type": "text"
      },
      "source": [
        "<a href=\"https://colab.research.google.com/github/mrityun-jay/batch-50_python/blob/main/lab_3Feb.ipynb\" target=\"_parent\"><img src=\"https://colab.research.google.com/assets/colab-badge.svg\" alt=\"Open In Colab\"/></a>"
      ]
    },
    {
      "cell_type": "code",
      "execution_count": 1,
      "metadata": {
        "colab": {
          "base_uri": "https://localhost:8080/"
        },
        "id": "Yi_NfjQ7z8Hm",
        "outputId": "a930ef96-ff22-4a90-ba16-a650af13448c"
      },
      "outputs": [
        {
          "output_type": "stream",
          "name": "stdout",
          "text": [
            "(1, 2, 3, 4, 5) ('one', 'two', 'three', 'four', 'five') (1, 'one', 6, 7.5, 'dhruv')\n"
          ]
        }
      ],
      "source": [
        "t1=(1,2,3,4,5)\n",
        "t2=('one','two','three','four','five')\n",
        "t3=(1,'one',6,7.5,\"dhruv\")\n",
        "print(t1,t2,t3)\n",
        "#We cant use del function or delete in tuples"
      ]
    },
    {
      "cell_type": "code",
      "source": [
        "t1=(1,2,3,4,5,6,8)\n",
        "t2=('one','two','three','four','five')\n",
        "t3=(1,'one',6,7.5,\"dhruv\")\n",
        "print(t1[-2:])\n",
        "print(t1[2:])\n",
        "print(t1[:2])\n",
        "\n",
        "\n",
        "t4=t1+t2\n",
        "print(t4)\n",
        "print(t2[0][0])"
      ],
      "metadata": {
        "colab": {
          "base_uri": "https://localhost:8080/"
        },
        "id": "7aPIX2XS0_d6",
        "outputId": "5202af04-f9a2-4874-9a42-41a799e53caa"
      },
      "execution_count": 18,
      "outputs": [
        {
          "output_type": "stream",
          "name": "stdout",
          "text": [
            "(6, 8)\n",
            "(3, 4, 5, 6, 8)\n",
            "(1, 2)\n",
            "(1, 2, 3, 4, 5, 6, 8)\n",
            "(1, 2, 3, 4, 5, 6, 8)\n",
            "8\n",
            "(2, 4, 6)\n",
            "(8, 6, 5, 4, 3, 2, 1)\n",
            "(1, 2, 3, 4, 5, 6, 8, 'one', 'two', 'three', 'four', 'five')\n",
            "o\n"
          ]
        }
      ]
    },
    {
      "cell_type": "code",
      "source": [
        "t1=(1,2,3,4,5,6,8)\n",
        "t2=('one','two','three','four','five')\n",
        "t3=(1,'one',6,7.5,\"dhruv\")\n",
        "print(t1[:])\n",
        "print(t1[::])\n",
        "print(t1[-1])\n",
        "print(t1[1:6:2])\n",
        "print(t1[::-1])"
      ],
      "metadata": {
        "colab": {
          "base_uri": "https://localhost:8080/"
        },
        "id": "XN_F7WTa4LRz",
        "outputId": "c903c73f-d168-47e3-ba0b-6eaf94139a55"
      },
      "execution_count": 20,
      "outputs": [
        {
          "output_type": "stream",
          "name": "stdout",
          "text": [
            "(1, 2, 3, 4, 5, 6, 8)\n",
            "(1, 2, 3, 4, 5, 6, 8)\n",
            "8\n",
            "(2, 4, 6)\n",
            "(8, 6, 5, 4, 3, 2, 1)\n"
          ]
        }
      ]
    },
    {
      "cell_type": "code",
      "source": [
        "t1=(1,2,3,4,5,6,8)\n",
        "t2=('one','two','three','four','five')\n",
        "t3=(1,'one',6,7.5,\"dhruv\")\n",
        "print(t2[0][0])"
      ],
      "metadata": {
        "colab": {
          "base_uri": "https://localhost:8080/"
        },
        "id": "DeqUwxMX4HkU",
        "outputId": "e0af9ce6-71cf-4072-c265-b99d36f71511"
      },
      "execution_count": 21,
      "outputs": [
        {
          "output_type": "stream",
          "name": "stdout",
          "text": [
            "o\n"
          ]
        }
      ]
    },
    {
      "cell_type": "code",
      "source": [
        "t2=('one','two','three','four','five',(5,8),('four','five'))\n",
        "print(t2[5][1])"
      ],
      "metadata": {
        "colab": {
          "base_uri": "https://localhost:8080/"
        },
        "id": "o8Ywv9Hk4WID",
        "outputId": "664184d6-4f1d-487e-844d-ae4d40d57e57"
      },
      "execution_count": 22,
      "outputs": [
        {
          "output_type": "stream",
          "name": "stdout",
          "text": [
            "8\n"
          ]
        }
      ]
    }
  ]
}