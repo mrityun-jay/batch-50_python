{
  "nbformat": 4,
  "nbformat_minor": 0,
  "metadata": {
    "colab": {
      "provenance": [],
      "authorship_tag": "ABX9TyOmtgfrC+pc9FeCGk13wZpZ",
      "include_colab_link": true
    },
    "kernelspec": {
      "name": "python3",
      "display_name": "Python 3"
    },
    "language_info": {
      "name": "python"
    }
  },
  "cells": [
    {
      "cell_type": "markdown",
      "metadata": {
        "id": "view-in-github",
        "colab_type": "text"
      },
      "source": [
        "<a href=\"https://colab.research.google.com/github/mrityun-jay/batch-50_python/blob/main/lab1_10jan.ipynb\" target=\"_parent\"><img src=\"https://colab.research.google.com/assets/colab-badge.svg\" alt=\"Open In Colab\"/></a>"
      ]
    },
    {
      "cell_type": "code",
      "execution_count": null,
      "metadata": {
        "colab": {
          "base_uri": "https://localhost:8080/"
        },
        "id": "3fC2NVXEJVwB",
        "outputId": "c926ed1f-7331-4e0f-f3a4-f48cce1a743e"
      },
      "outputs": [
        {
          "output_type": "stream",
          "name": "stdout",
          "text": [
            "Welcome to Python\n",
            "<class 'float'>\n"
          ]
        }
      ],
      "source": [
        "print(\"Welcome to Python\")\n",
        "a=10.5\n",
        "print(type(a))\n"
      ]
    },
    {
      "cell_type": "markdown",
      "source": [
        "Keyboards and Identifiers**"
      ],
      "metadata": {
        "id": "WjkiUfu6L4Ij"
      }
    },
    {
      "cell_type": "code",
      "source": [],
      "metadata": {
        "id": "nKDUkka3MDdC"
      },
      "execution_count": null,
      "outputs": []
    },
    {
      "cell_type": "markdown",
      "source": [
        "Statements"
      ],
      "metadata": {
        "id": "dq0pse5GNZnE"
      }
    },
    {
      "cell_type": "code",
      "source": [
        "a=10+10\n",
        "print(a)\n",
        "#Single line statements\n",
        "#Now for multi line statemnets\n",
        "a=10+10+\\\n",
        " 20+20+20+\\\n",
        " 30+20+10\n",
        "print(a)"
      ],
      "metadata": {
        "colab": {
          "base_uri": "https://localhost:8080/"
        },
        "id": "nsy4O85uNefb",
        "outputId": "71c6be3a-9ca6-49d8-bf74-bb4848560765"
      },
      "execution_count": null,
      "outputs": [
        {
          "output_type": "stream",
          "name": "stdout",
          "text": [
            "20\n",
            "140\n"
          ]
        }
      ]
    },
    {
      "cell_type": "code",
      "source": [
        "a= '''Lorem ipsum is a placeholder text commonly used in graphic design and publishing to fill empty spaces in a layout before actual content is added.\n",
        " Essentially, its a string of seemingly\n",
        " random Latin words that are designed to not distract the viewer from the overall design, allowing them to focus on\n",
        " elements like font, color, and spacing, rather than the meaning of the text itself.'''\n",
        "print(a)\n",
        "\n",
        "#using triple quotes"
      ],
      "metadata": {
        "colab": {
          "base_uri": "https://localhost:8080/"
        },
        "id": "4q11ORBmO3BF",
        "outputId": "ddc35d41-b837-4593-ec07-1085b5eae6e0"
      },
      "execution_count": null,
      "outputs": [
        {
          "output_type": "stream",
          "name": "stdout",
          "text": [
            "Lorem ipsum is a placeholder text commonly used in graphic design and publishing to fill empty spaces in a layout before actual content is added.\n",
            " Essentially, its a string of seemingly\n",
            " random Latin words that are designed to not distract the viewer from the overall design, allowing them to focus on\n",
            " elements like font, color, and spacing, rather than the meaning of the text itself.\n"
          ]
        }
      ]
    },
    {
      "cell_type": "code",
      "source": [
        "l1=['a',\n",
        "    'b',\n",
        "    'c',\n",
        "    'd',\n",
        "    'e'\n",
        "    ]\n",
        "l1\n"
      ],
      "metadata": {
        "colab": {
          "base_uri": "https://localhost:8080/"
        },
        "id": "0-3FD3RQP2Q1",
        "outputId": "17510880-1e98-4d60-f6f6-648cacb634c1"
      },
      "execution_count": null,
      "outputs": [
        {
          "output_type": "execute_result",
          "data": {
            "text/plain": [
              "['a', 'b', 'c', 'd', 'e']"
            ]
          },
          "metadata": {},
          "execution_count": 11
        }
      ]
    },
    {
      "cell_type": "code",
      "source": [
        "mystring = ''' Hey what's Up '''\n",
        "print(mystring)"
      ],
      "metadata": {
        "colab": {
          "base_uri": "https://localhost:8080/"
        },
        "id": "YPTSyU7-QVby",
        "outputId": "373f322e-c9a2-435d-d40e-162945b9c56e"
      },
      "execution_count": null,
      "outputs": [
        {
          "output_type": "stream",
          "name": "stdout",
          "text": [
            " Hey what's Up \n"
          ]
        }
      ]
    },
    {
      "cell_type": "code",
      "source": [
        "num1=int(input(\"What is your age \"))\n",
        "num2=int(input('In which standard are you in '))\n",
        "sum=(num1+num2)\n",
        "print(sum)\n",
        "\n",
        "#Using integer format type conversion\n"
      ],
      "metadata": {
        "colab": {
          "base_uri": "https://localhost:8080/"
        },
        "id": "er86gKkXRZU5",
        "outputId": "05b68324-e300-4975-ba94-02d7d41acb5c"
      },
      "execution_count": null,
      "outputs": [
        {
          "output_type": "stream",
          "name": "stdout",
          "text": [
            "What is your age 16\n",
            "In which standard are you in 12\n",
            "28\n"
          ]
        }
      ]
    },
    {
      "cell_type": "code",
      "source": [
        "num1=float(input(\"What is your age \"))\n",
        "num2=float(input('In which standard are you in '))\n",
        "sum=(num1+num2)\n",
        "print(sum)\n",
        "\n",
        "#Float instead of integer type conversion"
      ],
      "metadata": {
        "colab": {
          "base_uri": "https://localhost:8080/"
        },
        "id": "iczstynYSUgZ",
        "outputId": "c0ea8c0c-fda9-402a-f493-f380caa9aad2"
      },
      "execution_count": null,
      "outputs": [
        {
          "output_type": "stream",
          "name": "stdout",
          "text": [
            "What is your age 22\n",
            "In which standard are you in 34\n",
            "56.0\n"
          ]
        }
      ]
    },
    {
      "cell_type": "code",
      "source": [
        "num1=float(input(\"What is your age \"))\n",
        "num2=float(input('In which standard are you in '))\n",
        "sum=(num1*num2)\n",
        "print(sum)\n",
        "\n",
        "#Multiplication"
      ],
      "metadata": {
        "colab": {
          "base_uri": "https://localhost:8080/"
        },
        "id": "5YG2rRACSgC3",
        "outputId": "9ee711ed-02ab-4209-f925-b4dd25b6a252"
      },
      "execution_count": null,
      "outputs": [
        {
          "output_type": "stream",
          "name": "stdout",
          "text": [
            "What is your age 10\n",
            "In which standard are you in 10\n",
            "100.0\n"
          ]
        }
      ]
    },
    {
      "cell_type": "code",
      "source": [
        "a=float(input(\"What is your age \"))\n",
        "b=int(input('Your Pincode '))\n",
        "sum=(a+b)\n",
        "print(sum)\n"
      ],
      "metadata": {
        "colab": {
          "base_uri": "https://localhost:8080/"
        },
        "id": "n8adg7s4S795",
        "outputId": "31082e78-fb48-4880-862b-6aa721ec403f"
      },
      "execution_count": null,
      "outputs": [
        {
          "output_type": "stream",
          "name": "stdout",
          "text": [
            "What is your age 12\n",
            "Your Pincode 846004\n",
            "846016.0\n"
          ]
        }
      ]
    },
    {
      "cell_type": "code",
      "source": [
        "#boolean operator Either True or False\n",
        "#20==30 - False\n",
        "#10*10==100 - True\n",
        "20>30"
      ],
      "metadata": {
        "colab": {
          "base_uri": "https://localhost:8080/"
        },
        "id": "PVag0hcqTk6K",
        "outputId": "17d12614-d04f-4ef2-8dff-4b1bcd204927"
      },
      "execution_count": null,
      "outputs": [
        {
          "output_type": "execute_result",
          "data": {
            "text/plain": [
              "False"
            ]
          },
          "metadata": {},
          "execution_count": 23
        }
      ]
    }
  ]
}