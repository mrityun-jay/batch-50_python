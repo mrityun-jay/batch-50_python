{
  "nbformat": 4,
  "nbformat_minor": 0,
  "metadata": {
    "colab": {
      "provenance": [],
      "authorship_tag": "ABX9TyOjdA6OCShnEtppRniuDc72",
      "include_colab_link": true
    },
    "kernelspec": {
      "name": "python3",
      "display_name": "Python 3"
    },
    "language_info": {
      "name": "python"
    }
  },
  "cells": [
    {
      "cell_type": "markdown",
      "metadata": {
        "id": "view-in-github",
        "colab_type": "text"
      },
      "source": [
        "<a href=\"https://colab.research.google.com/github/mrityun-jay/batch-50_python/blob/main/Class15jan.ipynb\" target=\"_parent\"><img src=\"https://colab.research.google.com/assets/colab-badge.svg\" alt=\"Open In Colab\"/></a>"
      ]
    },
    {
      "cell_type": "code",
      "source": [
        "a=\"Welcome to python\"\n",
        "for i in a:\n",
        "  print(i)"
      ],
      "metadata": {
        "id": "aIrlVi1gXv7i"
      },
      "execution_count": null,
      "outputs": []
    },
    {
      "cell_type": "markdown",
      "source": [
        "Write a program to concatenate two sytrings in python;\n",
        "Take a multi line string and extract the revelant words only."
      ],
      "metadata": {
        "id": "dVvBB0-FWsrD"
      }
    },
    {
      "cell_type": "code",
      "source": [
        "print(a[0:6])\n"
      ],
      "metadata": {
        "colab": {
          "base_uri": "https://localhost:8080/"
        },
        "id": "GO5VjNieXF0I",
        "outputId": "aa217a6f-be2e-4f0e-8aab-e821e0303bbd"
      },
      "execution_count": 3,
      "outputs": [
        {
          "output_type": "stream",
          "name": "stdout",
          "text": [
            "Welcom\n"
          ]
        }
      ]
    },
    {
      "cell_type": "code",
      "source": [
        "a=input(\"Enter the first string\")\n",
        "b=input(\"Enter the second string\")\n",
        "c=a+b\n",
        "print(c)"
      ],
      "metadata": {
        "colab": {
          "base_uri": "https://localhost:8080/"
        },
        "id": "If_HJeyxY2zv",
        "outputId": "0db5958b-3450-4bb0-d8e5-ba11e36a5a4c"
      },
      "execution_count": 5,
      "outputs": [
        {
          "output_type": "stream",
          "name": "stdout",
          "text": [
            "Enter the first stringhello bro \n",
            "Enter the second stringwhat's up \n",
            "hello bro what's up \n"
          ]
        }
      ]
    }
  ]
}